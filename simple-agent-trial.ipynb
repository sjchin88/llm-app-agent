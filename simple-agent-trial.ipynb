{
 "cells": [
  {
   "cell_type": "markdown",
   "id": "44725df1-ed14-4b3b-9383-9d0e74e8a93a",
   "metadata": {},
   "source": [
    "# Summary\n",
    "\n",
    "Reference: https://langchain-ai.github.io/langgraph/how-tos/create-react-agent/"
   ]
  },
  {
   "cell_type": "markdown",
   "id": "dac3f6c8-9479-413e-b6b8-9827841b9608",
   "metadata": {},
   "source": [
    "## Step 0 - Load the env and connect with an LLM"
   ]
  },
  {
   "cell_type": "code",
   "execution_count": 1,
   "id": "fc8be5c4-9d3a-4c77-bf73-ff52cd941382",
   "metadata": {},
   "outputs": [],
   "source": [
    "import os\n",
    "from dotenv import load_dotenv, find_dotenv\n",
    "_ = load_dotenv(find_dotenv())\n",
    "openai_api_key = os.environ[\"OPENAI_API_KEY\"]"
   ]
  },
  {
   "cell_type": "code",
   "execution_count": 2,
   "id": "f6b5c269-5b88-4a25-aa4e-8f5257d18616",
   "metadata": {},
   "outputs": [],
   "source": [
    "from langchain_openai import ChatOpenAI\n",
    "\n",
    "llm = ChatOpenAI(model=\"gpt-4o-mini\")"
   ]
  },
  {
   "cell_type": "markdown",
   "id": "ef4a9ec0-fc07-4493-be74-d0173c948dfb",
   "metadata": {},
   "source": [
    "## Step 1 - Define a tool using tavily_search\n",
    "\n",
    "Note you will need a tavily api by signing up for their free account.\n",
    "\n",
    "Free usage limit is 1000 api call per month"
   ]
  },
  {
   "cell_type": "code",
   "execution_count": 5,
   "id": "888d3ee9-de0d-4bbd-9844-394b606c0743",
   "metadata": {},
   "outputs": [],
   "source": [
    "from langchain_community.tools.tavily_search import TavilySearchResults\n",
    "tavily_search_tool = TavilySearchResults(max_results=2)\n",
    "tools = [tavily_search_tool]"
   ]
  },
  {
   "cell_type": "markdown",
   "id": "871a024b-3dc8-4a50-aa97-709f8c4c738e",
   "metadata": {},
   "source": [
    "## Step 2 - Create agent using LangGraph prebuilt agent"
   ]
  },
  {
   "cell_type": "code",
   "execution_count": 7,
   "id": "7f7c78c9-6b10-4ea1-83fd-ff8ab2d51c49",
   "metadata": {},
   "outputs": [],
   "source": [
    "from langgraph.prebuilt import create_react_agent\n",
    "\n",
    "agent_executor = create_react_agent(llm, tools)"
   ]
  },
  {
   "cell_type": "markdown",
   "id": "bab56cfa-b2e5-450f-863b-c88a542ad174",
   "metadata": {},
   "source": [
    "### Step 2 - 1 Try visualize the graph "
   ]
  },
  {
   "cell_type": "code",
   "execution_count": 8,
   "id": "c6c981e5-761d-42ac-a9d8-7c5e1a21c47e",
   "metadata": {},
   "outputs": [
    {
     "data": {
      "image/jpeg": "[encoded data removed]",
      "text/plain": [
       "<IPython.core.display.Image object>"
      ]
     },
     "metadata": {},
     "output_type": "display_data"
    }
   ],
   "source": [
    "from IPython.display import Image, display\n",
    "\n",
    "display(Image(agent_executor.get_graph().draw_mermaid_png()))"
   ]
  },
  {
   "cell_type": "code",
   "execution_count": 9,
   "id": "c215e48b-26e9-461c-b217-13c362511728",
   "metadata": {},
   "outputs": [],
   "source": [
    "# Create helper function to print neatly the conversation\n",
    "def print_stream(stream):\n",
    "    for s in stream:\n",
    "        message = s[\"messages\"][-1]\n",
    "        if isinstance(message, tuple):\n",
    "            print(message)\n",
    "        else:\n",
    "            message.pretty_print()"
   ]
  },
  {
   "cell_type": "markdown",
   "id": "288b9aa0-c247-4786-8243-1d82de76afa8",
   "metadata": {},
   "source": [
    "## Step 3 - Try call the app with an input that needs a tool call"
   ]
  },
  {
   "cell_type": "code",
   "execution_count": 10,
   "id": "e7bf670e-9482-4336-bef4-69b374d32dc5",
   "metadata": {},
   "outputs": [
    {
     "name": "stdout",
     "output_type": "stream",
     "text": [
      "================================\u001b[1m Human Message \u001b[0m=================================\n",
      "\n",
      "what is the weather in seattle\n",
      "==================================\u001b[1m Ai Message \u001b[0m==================================\n",
      "Tool Calls:\n",
      "  tavily_search_results_json (call_1pBZAcZvB1D875q1VfHyLfZM)\n",
      " Call ID: call_1pBZAcZvB1D875q1VfHyLfZM\n",
      "  Args:\n",
      "    query: current weather in Seattle\n",
      "=================================\u001b[1m Tool Message \u001b[0m=================================\n",
      "Name: tavily_search_results_json\n",
      "\n",
      "[{\"url\": \"https://www.weatherapi.com/\", \"content\": \"{'location': {'name': 'Seattle', 'region': 'Washington', 'country': 'United States of America', 'lat': 47.61, 'lon': -122.33, 'tz_id': 'America/Los_Angeles', 'localtime_epoch': 1725484207, 'localtime': '2024-09-04 14:10'}, 'current': {'last_updated_epoch': 1725483600, 'last_updated': '2024-09-04 14:00', 'temp_c': 22.8, 'temp_f': 73.0, 'is_day': 1, 'condition': {'text': 'Sunny', 'icon': '//cdn.weatherapi.com/weather/64x64/day/113.png', 'code': 1000}, 'wind_mph': 5.6, 'wind_kph': 9.0, 'wind_degree': 320, 'wind_dir': 'NW', 'pressure_mb': 1022.0, 'pressure_in': 30.18, 'precip_mm': 0.0, 'precip_in': 0.0, 'humidity': 61, 'cloud': 0, 'feelslike_c': 24.6, 'feelslike_f': 76.2, 'windchill_c': 24.6, 'windchill_f': 76.2, 'heatindex_c': 25.3, 'heatindex_f': 77.5, 'dewpoint_c': 12.8, 'dewpoint_f': 55.1, 'vis_km': 16.0, 'vis_miles': 9.0, 'uv': 6.0, 'gust_mph': 8.0, 'gust_kph': 12.9}}\"}, {\"url\": \"https://weatherspark.com/h/y/913/2024/Historical-Weather-during-2024-in-Seattle-Washington-United-States\", \"content\": \"Seattle Temperature History 2024\\nHourly Temperature in 2024 in Seattle\\nCompare Seattle to another city:\\nCloud Cover in 2024 in Seattle\\nDaily Precipitation in 2024 in Seattle\\nObserved Weather in 2024 in Seattle\\nHours of Daylight and Twilight in 2024 in Seattle\\nSunrise & Sunset with Twilight and Daylight Saving Time in 2024 in Seattle\\nSolar Elevation and Azimuth in 2024 in Seattle\\nMoon Rise, Set & Phases in 2024 in Seattle\\nHumidity Comfort Levels in 2024 in Seattle\\nWind Speed in 2024 in Seattle\\nHourly Wind Speed in 2024 in Seattle\\nHourly Wind Direction in 2024 in Seattle\\nAtmospheric Pressure in 2024 in Seattle\\nData Sources\\n 44.1\\u00b0F\\nPrecipitation - last 1 hr\\n0.04 in\\nWind\\n18.4 mph\\nCloud Cover\\nMostly Cloudy\\n2,900 ft\\nRaw: KSEA 091153Z 22016G27KT While having the tremendous advantages of temporal and spatial completeness, these reconstructions: (1) are based on computer models that may have model-based errors, (2) are coarsely sampled on a 50 km grid and are therefore unable to reconstruct the local variations of many microclimates, and (3) have particular difficulty with the weather in some coastal areas, especially small islands.\\n We further caution that our travel scores are only as good as the data that underpin them, that weather conditions at any given location and time are unpredictable and variable, and that the definition of the scores reflects a particular set of preferences that may not agree with those of any particular reader.\\n See all nearby weather stations\\nLatest Report \\u2014 3:53 AM\\nTue, Jan 9, 2024\\u00a0\\u00a0\\u00a0\\u00a012 min ago\\u00a0\\u00a0\\u00a0\\u00a0UTC 11:53\\nCall Sign KSEA\\nTemp.\\n\"}]\n",
      "==================================\u001b[1m Ai Message \u001b[0m==================================\n",
      "\n",
      "The current weather in Seattle is as follows:\n",
      "\n",
      "- **Temperature**: 22.8°C (73.0°F)\n",
      "- **Condition**: Sunny\n",
      "- **Wind**: 5.6 mph (9.0 kph) from the northwest\n",
      "- **Humidity**: 61%\n",
      "- **Pressure**: 1022 mb (30.18 in)\n",
      "- **Visibility**: 16 km (9 miles)\n",
      "- **Dewpoint**: 12.8°C (55.1°F)\n",
      "\n",
      "For more detailed weather information, you can check [WeatherAPI](https://www.weatherapi.com/).\n"
     ]
    }
   ],
   "source": [
    "inputs = {\"messages\": [(\"user\", \"what is the weather in seattle\")]}\n",
    "print_stream(agent_executor.stream(inputs, stream_mode=\"values\"))"
   ]
  },
  {
   "cell_type": "markdown",
   "id": "d254ff11-f4d3-4a08-83cd-d9cdbc1147fb",
   "metadata": {},
   "source": [
    "## Step 3-1 Trying question that dont need tool"
   ]
  },
  {
   "cell_type": "code",
   "execution_count": 11,
   "id": "ec6c5ab3-64f6-443b-b7c6-774180849532",
   "metadata": {},
   "outputs": [
    {
     "name": "stdout",
     "output_type": "stream",
     "text": [
      "================================\u001b[1m Human Message \u001b[0m=================================\n",
      "\n",
      "what is your name?\n",
      "==================================\u001b[1m Ai Message \u001b[0m==================================\n",
      "\n",
      "I don't have a personal name, but you can call me Assistant! How can I help you today?\n"
     ]
    }
   ],
   "source": [
    "inputs = {\"messages\": [(\"user\", \"what is your name?\")]}\n",
    "print_stream(agent_executor.stream(inputs, stream_mode=\"values\"))"
   ]
  },
  {
   "cell_type": "markdown",
   "id": "06a49331-5ae2-4c67-b9aa-7f37b58f9027",
   "metadata": {},
   "source": [
    "## Step 4 - Adding a memory\n",
    "This is done by adding a checkpointer to create_react_agent function"
   ]
  },
  {
   "cell_type": "code",
   "execution_count": 2,
   "id": "c1269665-ac6c-4081-89fb-e8f6ba3c3e04",
   "metadata": {},
   "outputs": [],
   "source": [
    "# Grouping the code from the beginning\n",
    "from langchain_openai import ChatOpenAI\n",
    "from langchain_community.tools.tavily_search import TavilySearchResults\n",
    "from langgraph.checkpoint.memory import MemorySaver\n",
    "from langgraph.prebuilt import create_react_agent\n",
    "\n",
    "# Create model\n",
    "model = ChatOpenAI(model=\"gpt-4o-mini\", temperature=0)\n",
    "\n",
    "# Prepare search_tool\n",
    "tavily_search_tool = TavilySearchResults(max_results=2)\n",
    "tools = [tavily_search_tool]\n",
    "\n",
    "# Prepare memory\n",
    "memory = MemorySaver()\n",
    "\n",
    "# Use them together to build the graph node\n",
    "weather_agent=create_react_agent(model, tools=tools, checkpointer=memory)"
   ]
  },
  {
   "cell_type": "code",
   "execution_count": 3,
   "id": "c4c1e749-d53b-499f-8201-103af107cac4",
   "metadata": {},
   "outputs": [
    {
     "data": {
      "image/jpeg": "[encoded data removed]",
      "text/plain": [
       "<IPython.core.display.Image object>"
      ]
     },
     "metadata": {},
     "output_type": "display_data"
    }
   ],
   "source": [
    "# Prepare for visualization\n",
    "from IPython.display import Image, display\n",
    "\n",
    "# Check the graph built. It should look the same as previous, the checkpointer is not shown here\n",
    "display(Image(weather_agent.get_graph().draw_mermaid_png()))\n",
    "\n",
    "# Create helper function to print neatly the conversation\n",
    "def print_stream(stream):\n",
    "    for s in stream:\n",
    "        message = s[\"messages\"][-1]\n",
    "        if isinstance(message, tuple):\n",
    "            print(message)\n",
    "        else:\n",
    "            message.pretty_print()\n",
    "\n",
    "# We need a config to store the session id\n",
    "config = {\"configurable\": {\"thread_id\": \"1\"}}"
   ]
  },
  {
   "cell_type": "markdown",
   "id": "aa6af9fd-b486-4bb6-a1d6-1fc21c437354",
   "metadata": {},
   "source": [
    "Now we will ask the first question as before"
   ]
  },
  {
   "cell_type": "code",
   "execution_count": 18,
   "id": "b8b2e93d-3633-4143-833e-659372a14a68",
   "metadata": {},
   "outputs": [
    {
     "name": "stdout",
     "output_type": "stream",
     "text": [
      "================================\u001b[1m Human Message \u001b[0m=================================\n",
      "\n",
      "what is the weather in seattle\n",
      "==================================\u001b[1m Ai Message \u001b[0m==================================\n",
      "Tool Calls:\n",
      "  tavily_search_results_json (call_jR5oJFt0aH4D4VAK9PeyPc6d)\n",
      " Call ID: call_jR5oJFt0aH4D4VAK9PeyPc6d\n",
      "  Args:\n",
      "    query: current weather in Seattle\n",
      "=================================\u001b[1m Tool Message \u001b[0m=================================\n",
      "Name: tavily_search_results_json\n",
      "\n",
      "[{\"url\": \"https://www.weatherapi.com/\", \"content\": \"{'location': {'name': 'Seattle', 'region': 'Washington', 'country': 'United States of America', 'lat': 47.61, 'lon': -122.33, 'tz_id': 'America/Los_Angeles', 'localtime_epoch': 1725486508, 'localtime': '2024-09-04 14:48'}, 'current': {'last_updated_epoch': 1725486300, 'last_updated': '2024-09-04 14:45', 'temp_c': 23.3, 'temp_f': 73.9, 'is_day': 1, 'condition': {'text': 'Sunny', 'icon': '//cdn.weatherapi.com/weather/64x64/day/113.png', 'code': 1000}, 'wind_mph': 8.1, 'wind_kph': 13.0, 'wind_degree': 310, 'wind_dir': 'NW', 'pressure_mb': 1022.0, 'pressure_in': 30.17, 'precip_mm': 0.0, 'precip_in': 0.0, 'humidity': 60, 'cloud': 0, 'feelslike_c': 24.8, 'feelslike_f': 76.6, 'windchill_c': 24.6, 'windchill_f': 76.2, 'heatindex_c': 25.3, 'heatindex_f': 77.5, 'dewpoint_c': 12.8, 'dewpoint_f': 55.1, 'vis_km': 16.0, 'vis_miles': 9.0, 'uv': 6.0, 'gust_mph': 12.5, 'gust_kph': 20.2}}\"}, {\"url\": \"https://weatherspark.com/h/y/913/2024/Historical-Weather-during-2024-in-Seattle-Washington-United-States\", \"content\": \"Seattle Temperature History 2024\\nHourly Temperature in 2024 in Seattle\\nCompare Seattle to another city:\\nCloud Cover in 2024 in Seattle\\nDaily Precipitation in 2024 in Seattle\\nObserved Weather in 2024 in Seattle\\nHours of Daylight and Twilight in 2024 in Seattle\\nSunrise & Sunset with Twilight and Daylight Saving Time in 2024 in Seattle\\nSolar Elevation and Azimuth in 2024 in Seattle\\nMoon Rise, Set & Phases in 2024 in Seattle\\nHumidity Comfort Levels in 2024 in Seattle\\nWind Speed in 2024 in Seattle\\nHourly Wind Speed in 2024 in Seattle\\nHourly Wind Direction in 2024 in Seattle\\nAtmospheric Pressure in 2024 in Seattle\\nData Sources\\n 44.1\\u00b0F\\nPrecipitation - last 1 hr\\n0.04 in\\nWind\\n18.4 mph\\nCloud Cover\\nMostly Cloudy\\n2,900 ft\\nRaw: KSEA 091153Z 22016G27KT While having the tremendous advantages of temporal and spatial completeness, these reconstructions: (1) are based on computer models that may have model-based errors, (2) are coarsely sampled on a 50 km grid and are therefore unable to reconstruct the local variations of many microclimates, and (3) have particular difficulty with the weather in some coastal areas, especially small islands.\\n We further caution that our travel scores are only as good as the data that underpin them, that weather conditions at any given location and time are unpredictable and variable, and that the definition of the scores reflects a particular set of preferences that may not agree with those of any particular reader.\\n See all nearby weather stations\\nLatest Report \\u2014 3:53 AM\\nTue, Jan 9, 2024\\u00a0\\u00a0\\u00a0\\u00a012 min ago\\u00a0\\u00a0\\u00a0\\u00a0UTC 11:53\\nCall Sign KSEA\\nTemp.\\n\"}]\n",
      "==================================\u001b[1m Ai Message \u001b[0m==================================\n",
      "\n",
      "The current weather in Seattle is as follows:\n",
      "\n",
      "- **Temperature**: 23.3°C (73.9°F)\n",
      "- **Condition**: Sunny\n",
      "- **Wind**: 8.1 mph (13.0 kph) from the NW\n",
      "- **Humidity**: 60%\n",
      "- **Pressure**: 1022 mb (30.17 in)\n",
      "- **Visibility**: 16 km (9 miles)\n",
      "- **Feels Like**: 24.8°C (76.6°F)\n",
      "\n",
      "For more detailed information, you can check [WeatherAPI](https://www.weatherapi.com/).\n"
     ]
    }
   ],
   "source": [
    "inputs = {\"messages\": [(\"user\", \"what is the weather in seattle\")]}\n",
    "# Note we added the config to identify the session\n",
    "print_stream(weather_agent.stream(inputs, config=config, stream_mode=\"values\"))"
   ]
  },
  {
   "cell_type": "markdown",
   "id": "9f863167-967f-4c2b-b90e-1df948805af9",
   "metadata": {},
   "source": [
    "Lets try to ask a follow up question"
   ]
  },
  {
   "cell_type": "code",
   "execution_count": 19,
   "id": "9a9a5fd5-8358-428b-b965-e7e826942a70",
   "metadata": {},
   "outputs": [
    {
     "name": "stdout",
     "output_type": "stream",
     "text": [
      "================================\u001b[1m Human Message \u001b[0m=================================\n",
      "\n",
      "what activities can we do with this kind of weather?\n",
      "==================================\u001b[1m Ai Message \u001b[0m==================================\n",
      "\n",
      "With sunny weather and mild temperatures around 23.3°C (73.9°F), Seattle offers a variety of outdoor activities. Here are some suggestions:\n",
      "\n",
      "1. **Visit Parks**: Explore local parks like Discovery Park or Volunteer Park for walking, picnicking, or enjoying the scenery.\n",
      "\n",
      "2. **Water Activities**: Consider kayaking or paddleboarding on Lake Union or Puget Sound.\n",
      "\n",
      "3. **Hiking**: Take advantage of the pleasant weather to hike nearby trails, such as those in the Cascade Mountains or Mount Rainier National Park.\n",
      "\n",
      "4. **Outdoor Dining**: Enjoy a meal at one of Seattle's many outdoor cafes or restaurants with patios.\n",
      "\n",
      "5. **Biking**: Rent a bike and ride along the Burke-Gilman Trail or through the city.\n",
      "\n",
      "6. **Visit the Waterfront**: Stroll along the Seattle waterfront, visit the Seattle Aquarium, or take a ferry ride to Bainbridge Island.\n",
      "\n",
      "7. **Explore the Seattle Center**: Check out the Space Needle, Chihuly Garden and Glass, or the Museum of Pop Culture.\n",
      "\n",
      "8. **Farmers Markets**: Visit a local farmers market to enjoy fresh produce and artisanal goods.\n",
      "\n",
      "9. **Outdoor Events**: Look for any outdoor concerts, festivals, or events happening in the city.\n",
      "\n",
      "10. **Photography**: Capture the beautiful scenery and vibrant city life with your camera.\n",
      "\n",
      "These activities can help you make the most of the lovely weather in Seattle!\n"
     ]
    }
   ],
   "source": [
    "inputs = {\"messages\": [(\"user\", \"what activities can we do with this kind of weather?\")]}\n",
    "# Note we need the config to identify the session\n",
    "print_stream(weather_agent.stream(inputs, config=config, stream_mode=\"values\"))"
   ]
  },
  {
   "cell_type": "markdown",
   "id": "6f121024-a57f-445b-ac40-233e264f2d3d",
   "metadata": {},
   "source": [
    "## Step 5 Further investigation \n",
    "\n",
    "We want to check the output returned when calling the weather_agent.stream() method. "
   ]
  },
  {
   "cell_type": "code",
   "execution_count": 5,
   "id": "9fd12c10-843a-4535-9699-09a0cd92d613",
   "metadata": {},
   "outputs": [],
   "source": [
    "inputs = {\"messages\": [(\"user\", \"what is the weather in seattle\")]}\n",
    "output = weather_agent.stream(inputs, config=config, stream_mode=\"values\")"
   ]
  },
  {
   "cell_type": "code",
   "execution_count": 7,
   "id": "b36cee24-486e-4ca8-a7ee-0b81524ada3c",
   "metadata": {},
   "outputs": [
    {
     "name": "stdout",
     "output_type": "stream",
     "text": [
      "<generator object Pregel.stream at 0x0000018510DB07C0>\n",
      "<class 'langgraph.pregel.io.AddableValuesDict'>\n",
      "{'messages': [HumanMessage(content='what is the weather in seattle', id='1a99cb1c-0bea-4a91-9625-c747f9a7dbe8')]}\n",
      "<class 'langchain_core.messages.human.HumanMessage'>\n",
      "================================\u001b[1m Human Message \u001b[0m=================================\n",
      "\n",
      "what is the weather in seattle\n",
      "<class 'langgraph.pregel.io.AddableValuesDict'>\n",
      "{'messages': [HumanMessage(content='what is the weather in seattle', id='1a99cb1c-0bea-4a91-9625-c747f9a7dbe8'), AIMessage(content='', additional_kwargs={'tool_calls': [{'id': 'call_sc7GisDI4IIOG2ucPmnmXtAZ', 'function': {'arguments': '{\"query\":\"current weather in Seattle\"}', 'name': 'tavily_search_results_json'}, 'type': 'function'}], 'refusal': None}, response_metadata={'token_usage': {'completion_tokens': 21, 'prompt_tokens': 86, 'total_tokens': 107}, 'model_name': 'gpt-4o-mini-2024-07-18', 'system_fingerprint': 'fp_483d39d857', 'finish_reason': 'tool_calls', 'logprobs': None}, id='run-05a905be-1ac6-4737-a16a-7fa0eda99ace-0', tool_calls=[{'name': 'tavily_search_results_json', 'args': {'query': 'current weather in Seattle'}, 'id': 'call_sc7GisDI4IIOG2ucPmnmXtAZ', 'type': 'tool_call'}], usage_metadata={'input_tokens': 86, 'output_tokens': 21, 'total_tokens': 107})]}\n",
      "<class 'langchain_core.messages.ai.AIMessage'>\n",
      "==================================\u001b[1m Ai Message \u001b[0m==================================\n",
      "Tool Calls:\n",
      "  tavily_search_results_json (call_sc7GisDI4IIOG2ucPmnmXtAZ)\n",
      " Call ID: call_sc7GisDI4IIOG2ucPmnmXtAZ\n",
      "  Args:\n",
      "    query: current weather in Seattle\n",
      "<class 'langgraph.pregel.io.AddableValuesDict'>\n",
      "{'messages': [HumanMessage(content='what is the weather in seattle', id='1a99cb1c-0bea-4a91-9625-c747f9a7dbe8'), AIMessage(content='', additional_kwargs={'tool_calls': [{'id': 'call_sc7GisDI4IIOG2ucPmnmXtAZ', 'function': {'arguments': '{\"query\":\"current weather in Seattle\"}', 'name': 'tavily_search_results_json'}, 'type': 'function'}], 'refusal': None}, response_metadata={'token_usage': {'completion_tokens': 21, 'prompt_tokens': 86, 'total_tokens': 107}, 'model_name': 'gpt-4o-mini-2024-07-18', 'system_fingerprint': 'fp_483d39d857', 'finish_reason': 'tool_calls', 'logprobs': None}, id='run-05a905be-1ac6-4737-a16a-7fa0eda99ace-0', tool_calls=[{'name': 'tavily_search_results_json', 'args': {'query': 'current weather in Seattle'}, 'id': 'call_sc7GisDI4IIOG2ucPmnmXtAZ', 'type': 'tool_call'}], usage_metadata={'input_tokens': 86, 'output_tokens': 21, 'total_tokens': 107}), ToolMessage(content='[{\"url\": \"https://www.weatherapi.com/\", \"content\": \"{\\'location\\': {\\'name\\': \\'Seattle\\', \\'region\\': \\'Washington\\', \\'country\\': \\'United States of America\\', \\'lat\\': 47.61, \\'lon\\': -122.33, \\'tz_id\\': \\'America/Los_Angeles\\', \\'localtime_epoch\\': 1725571353, \\'localtime\\': \\'2024-09-05 14:22\\'}, \\'current\\': {\\'last_updated_epoch\\': 1725570900, \\'last_updated\\': \\'2024-09-05 14:15\\', \\'temp_c\\': 28.3, \\'temp_f\\': 82.9, \\'is_day\\': 1, \\'condition\\': {\\'text\\': \\'Sunny\\', \\'icon\\': \\'//cdn.weatherapi.com/weather/64x64/day/113.png\\', \\'code\\': 1000}, \\'wind_mph\\': 2.2, \\'wind_kph\\': 3.6, \\'wind_degree\\': 340, \\'wind_dir\\': \\'NNW\\', \\'pressure_mb\\': 1018.0, \\'pressure_in\\': 30.06, \\'precip_mm\\': 0.0, \\'precip_in\\': 0.0, \\'humidity\\': 46, \\'cloud\\': 0, \\'feelslike_c\\': 27.4, \\'feelslike_f\\': 81.3, \\'windchill_c\\': 30.6, \\'windchill_f\\': 87.1, \\'heatindex_c\\': 30.0, \\'heatindex_f\\': 85.9, \\'dewpoint_c\\': 12.3, \\'dewpoint_f\\': 54.1, \\'vis_km\\': 16.0, \\'vis_miles\\': 9.0, \\'uv\\': 8.0, \\'gust_mph\\': 5.9, \\'gust_kph\\': 9.5}}\"}, {\"url\": \"https://www.timeanddate.com/weather/usa/seattle/historic?month=5&year=2024\", \"content\": \"See more current weather. ... May 2024 Weather in Seattle \\\\u2014 Graph \\\\u00b0F. See Hour-by-hour Forecast for upcoming weather. See weather overview. High & Low Weather Summary for May 2024 Temperature Humidity ... 30.09 \\\\\"Hg: 10 mi: 6:53 pm: 59 \\\\u00b0F: Scattered clouds. No wind:\"}]', name='tavily_search_results_json', id='3646a045-e8fc-439d-a5d4-b372bbac0be1', tool_call_id='call_sc7GisDI4IIOG2ucPmnmXtAZ', artifact={'query': 'current weather in Seattle', 'follow_up_questions': None, 'answer': None, 'images': [], 'results': [{'title': 'Weather in Seattle', 'url': 'https://www.weatherapi.com/', 'content': \"{'location': {'name': 'Seattle', 'region': 'Washington', 'country': 'United States of America', 'lat': 47.61, 'lon': -122.33, 'tz_id': 'America/Los_Angeles', 'localtime_epoch': 1725571353, 'localtime': '2024-09-05 14:22'}, 'current': {'last_updated_epoch': 1725570900, 'last_updated': '2024-09-05 14:15', 'temp_c': 28.3, 'temp_f': 82.9, 'is_day': 1, 'condition': {'text': 'Sunny', 'icon': '//cdn.weatherapi.com/weather/64x64/day/113.png', 'code': 1000}, 'wind_mph': 2.2, 'wind_kph': 3.6, 'wind_degree': 340, 'wind_dir': 'NNW', 'pressure_mb': 1018.0, 'pressure_in': 30.06, 'precip_mm': 0.0, 'precip_in': 0.0, 'humidity': 46, 'cloud': 0, 'feelslike_c': 27.4, 'feelslike_f': 81.3, 'windchill_c': 30.6, 'windchill_f': 87.1, 'heatindex_c': 30.0, 'heatindex_f': 85.9, 'dewpoint_c': 12.3, 'dewpoint_f': 54.1, 'vis_km': 16.0, 'vis_miles': 9.0, 'uv': 8.0, 'gust_mph': 5.9, 'gust_kph': 9.5}}\", 'score': 0.9990896, 'raw_content': None}, {'title': 'Past Weather in Seattle, Washington, USA — May 2024 - timeanddate.com', 'url': 'https://www.timeanddate.com/weather/usa/seattle/historic?month=5&year=2024', 'content': 'See more current weather. ... May 2024 Weather in Seattle — Graph °F. See Hour-by-hour Forecast for upcoming weather. See weather overview. High & Low Weather Summary for May 2024 Temperature Humidity ... 30.09 \"Hg: 10 mi: 6:53 pm: 59 °F: Scattered clouds. No wind:', 'score': 0.9933072, 'raw_content': None}], 'response_time': 3.16})]}\n",
      "<class 'langchain_core.messages.tool.ToolMessage'>\n",
      "=================================\u001b[1m Tool Message \u001b[0m=================================\n",
      "Name: tavily_search_results_json\n",
      "\n",
      "[{\"url\": \"https://www.weatherapi.com/\", \"content\": \"{'location': {'name': 'Seattle', 'region': 'Washington', 'country': 'United States of America', 'lat': 47.61, 'lon': -122.33, 'tz_id': 'America/Los_Angeles', 'localtime_epoch': 1725571353, 'localtime': '2024-09-05 14:22'}, 'current': {'last_updated_epoch': 1725570900, 'last_updated': '2024-09-05 14:15', 'temp_c': 28.3, 'temp_f': 82.9, 'is_day': 1, 'condition': {'text': 'Sunny', 'icon': '//cdn.weatherapi.com/weather/64x64/day/113.png', 'code': 1000}, 'wind_mph': 2.2, 'wind_kph': 3.6, 'wind_degree': 340, 'wind_dir': 'NNW', 'pressure_mb': 1018.0, 'pressure_in': 30.06, 'precip_mm': 0.0, 'precip_in': 0.0, 'humidity': 46, 'cloud': 0, 'feelslike_c': 27.4, 'feelslike_f': 81.3, 'windchill_c': 30.6, 'windchill_f': 87.1, 'heatindex_c': 30.0, 'heatindex_f': 85.9, 'dewpoint_c': 12.3, 'dewpoint_f': 54.1, 'vis_km': 16.0, 'vis_miles': 9.0, 'uv': 8.0, 'gust_mph': 5.9, 'gust_kph': 9.5}}\"}, {\"url\": \"https://www.timeanddate.com/weather/usa/seattle/historic?month=5&year=2024\", \"content\": \"See more current weather. ... May 2024 Weather in Seattle \\u2014 Graph \\u00b0F. See Hour-by-hour Forecast for upcoming weather. See weather overview. High & Low Weather Summary for May 2024 Temperature Humidity ... 30.09 \\\"Hg: 10 mi: 6:53 pm: 59 \\u00b0F: Scattered clouds. No wind:\"}]\n",
      "<class 'langgraph.pregel.io.AddableValuesDict'>\n",
      "{'messages': [HumanMessage(content='what is the weather in seattle', id='1a99cb1c-0bea-4a91-9625-c747f9a7dbe8'), AIMessage(content='', additional_kwargs={'tool_calls': [{'id': 'call_sc7GisDI4IIOG2ucPmnmXtAZ', 'function': {'arguments': '{\"query\":\"current weather in Seattle\"}', 'name': 'tavily_search_results_json'}, 'type': 'function'}], 'refusal': None}, response_metadata={'token_usage': {'completion_tokens': 21, 'prompt_tokens': 86, 'total_tokens': 107}, 'model_name': 'gpt-4o-mini-2024-07-18', 'system_fingerprint': 'fp_483d39d857', 'finish_reason': 'tool_calls', 'logprobs': None}, id='run-05a905be-1ac6-4737-a16a-7fa0eda99ace-0', tool_calls=[{'name': 'tavily_search_results_json', 'args': {'query': 'current weather in Seattle'}, 'id': 'call_sc7GisDI4IIOG2ucPmnmXtAZ', 'type': 'tool_call'}], usage_metadata={'input_tokens': 86, 'output_tokens': 21, 'total_tokens': 107}), ToolMessage(content='[{\"url\": \"https://www.weatherapi.com/\", \"content\": \"{\\'location\\': {\\'name\\': \\'Seattle\\', \\'region\\': \\'Washington\\', \\'country\\': \\'United States of America\\', \\'lat\\': 47.61, \\'lon\\': -122.33, \\'tz_id\\': \\'America/Los_Angeles\\', \\'localtime_epoch\\': 1725571353, \\'localtime\\': \\'2024-09-05 14:22\\'}, \\'current\\': {\\'last_updated_epoch\\': 1725570900, \\'last_updated\\': \\'2024-09-05 14:15\\', \\'temp_c\\': 28.3, \\'temp_f\\': 82.9, \\'is_day\\': 1, \\'condition\\': {\\'text\\': \\'Sunny\\', \\'icon\\': \\'//cdn.weatherapi.com/weather/64x64/day/113.png\\', \\'code\\': 1000}, \\'wind_mph\\': 2.2, \\'wind_kph\\': 3.6, \\'wind_degree\\': 340, \\'wind_dir\\': \\'NNW\\', \\'pressure_mb\\': 1018.0, \\'pressure_in\\': 30.06, \\'precip_mm\\': 0.0, \\'precip_in\\': 0.0, \\'humidity\\': 46, \\'cloud\\': 0, \\'feelslike_c\\': 27.4, \\'feelslike_f\\': 81.3, \\'windchill_c\\': 30.6, \\'windchill_f\\': 87.1, \\'heatindex_c\\': 30.0, \\'heatindex_f\\': 85.9, \\'dewpoint_c\\': 12.3, \\'dewpoint_f\\': 54.1, \\'vis_km\\': 16.0, \\'vis_miles\\': 9.0, \\'uv\\': 8.0, \\'gust_mph\\': 5.9, \\'gust_kph\\': 9.5}}\"}, {\"url\": \"https://www.timeanddate.com/weather/usa/seattle/historic?month=5&year=2024\", \"content\": \"See more current weather. ... May 2024 Weather in Seattle \\\\u2014 Graph \\\\u00b0F. See Hour-by-hour Forecast for upcoming weather. See weather overview. High & Low Weather Summary for May 2024 Temperature Humidity ... 30.09 \\\\\"Hg: 10 mi: 6:53 pm: 59 \\\\u00b0F: Scattered clouds. No wind:\"}]', name='tavily_search_results_json', id='3646a045-e8fc-439d-a5d4-b372bbac0be1', tool_call_id='call_sc7GisDI4IIOG2ucPmnmXtAZ', artifact={'query': 'current weather in Seattle', 'follow_up_questions': None, 'answer': None, 'images': [], 'results': [{'title': 'Weather in Seattle', 'url': 'https://www.weatherapi.com/', 'content': \"{'location': {'name': 'Seattle', 'region': 'Washington', 'country': 'United States of America', 'lat': 47.61, 'lon': -122.33, 'tz_id': 'America/Los_Angeles', 'localtime_epoch': 1725571353, 'localtime': '2024-09-05 14:22'}, 'current': {'last_updated_epoch': 1725570900, 'last_updated': '2024-09-05 14:15', 'temp_c': 28.3, 'temp_f': 82.9, 'is_day': 1, 'condition': {'text': 'Sunny', 'icon': '//cdn.weatherapi.com/weather/64x64/day/113.png', 'code': 1000}, 'wind_mph': 2.2, 'wind_kph': 3.6, 'wind_degree': 340, 'wind_dir': 'NNW', 'pressure_mb': 1018.0, 'pressure_in': 30.06, 'precip_mm': 0.0, 'precip_in': 0.0, 'humidity': 46, 'cloud': 0, 'feelslike_c': 27.4, 'feelslike_f': 81.3, 'windchill_c': 30.6, 'windchill_f': 87.1, 'heatindex_c': 30.0, 'heatindex_f': 85.9, 'dewpoint_c': 12.3, 'dewpoint_f': 54.1, 'vis_km': 16.0, 'vis_miles': 9.0, 'uv': 8.0, 'gust_mph': 5.9, 'gust_kph': 9.5}}\", 'score': 0.9990896, 'raw_content': None}, {'title': 'Past Weather in Seattle, Washington, USA — May 2024 - timeanddate.com', 'url': 'https://www.timeanddate.com/weather/usa/seattle/historic?month=5&year=2024', 'content': 'See more current weather. ... May 2024 Weather in Seattle — Graph °F. See Hour-by-hour Forecast for upcoming weather. See weather overview. High & Low Weather Summary for May 2024 Temperature Humidity ... 30.09 \"Hg: 10 mi: 6:53 pm: 59 °F: Scattered clouds. No wind:', 'score': 0.9933072, 'raw_content': None}], 'response_time': 3.16}), AIMessage(content='The current weather in Seattle is sunny with a temperature of 28.3°C (82.9°F). The wind is blowing from the north-northwest at 2.2 mph, and the humidity is at 46%. There is no precipitation, and visibility is good at 16 km (9 miles). \\n\\nFor more details, you can check the full report [here](https://www.weatherapi.com/).', additional_kwargs={'refusal': None}, response_metadata={'token_usage': {'completion_tokens': 87, 'prompt_tokens': 640, 'total_tokens': 727}, 'model_name': 'gpt-4o-mini-2024-07-18', 'system_fingerprint': 'fp_54e2f484be', 'finish_reason': 'stop', 'logprobs': None}, id='run-a0c8812f-690f-4aa6-8999-ee354d681928-0', usage_metadata={'input_tokens': 640, 'output_tokens': 87, 'total_tokens': 727})]}\n",
      "<class 'langchain_core.messages.ai.AIMessage'>\n",
      "==================================\u001b[1m Ai Message \u001b[0m==================================\n",
      "\n",
      "The current weather in Seattle is sunny with a temperature of 28.3°C (82.9°F). The wind is blowing from the north-northwest at 2.2 mph, and the humidity is at 46%. There is no precipitation, and visibility is good at 16 km (9 miles). \n",
      "\n",
      "For more details, you can check the full report [here](https://www.weatherapi.com/).\n"
     ]
    }
   ],
   "source": [
    "print(output)\n",
    "def investigate_stream(stream):\n",
    "    for s in stream:\n",
    "        print(type(s))\n",
    "        print(s)\n",
    "        message = s[\"messages\"][-1]\n",
    "        if isinstance(message, tuple):\n",
    "            print(message)\n",
    "        else:\n",
    "            print(type(message))\n",
    "            message.pretty_print()\n",
    "investigate_stream(output)"
   ]
  },
  {
   "cell_type": "code",
   "execution_count": null,
   "id": "0d35baad-c431-4d18-bac9-671617f1a026",
   "metadata": {},
   "outputs": [],
   "source": []
  }
 ],
 "metadata": {
  "kernelspec": {
   "display_name": "Python 3 (ipykernel)",
   "language": "python",
   "name": "python3"
  },
  "language_info": {
   "codemirror_mode": {
    "name": "ipython",
    "version": 3
   },
   "file_extension": ".py",
   "mimetype": "text/x-python",
   "name": "python",
   "nbconvert_exporter": "python",
   "pygments_lexer": "ipython3",
   "version": "3.12.5"
  }
 },
 "nbformat": 4,
 "nbformat_minor": 5
}
